{
 "cells": [
  {
   "cell_type": "code",
   "execution_count": null,
   "metadata": {},
   "outputs": [
    {
     "ename": "",
     "evalue": "",
     "output_type": "error",
     "traceback": [
      "\u001b[1;31mFailed to start the Kernel. \n",
      "\u001b[1;31mFailed to connect to the remote Jupyter Server '_builtin.jupyterServerUrlProvider:6ec035cc-4d1a-4485-8dca-8cd75e0f538e'. Verify the server is running and reachable. (request to http://127.0.0.1:8888/hub/api failed, reason: connect ECONNREFUSED 127.0.0.1:8888). \n",
      "\u001b[1;31mView Jupyter <a href='command:jupyter.viewOutput'>log</a> for further details."
     ]
    }
   ],
   "source": [
    "from profiler import config_reader"
   ]
  },
  {
   "cell_type": "code",
   "execution_count": 10,
   "metadata": {},
   "outputs": [],
   "source": [
    "config = config_reader.YamlConfigReader(\"profiler/profiles_config.yml\")"
   ]
  },
  {
   "cell_type": "code",
   "execution_count": 11,
   "metadata": {},
   "outputs": [
    {
     "name": "stdout",
     "output_type": "stream",
     "text": [
      "{'name': 'test_source_1', 'schema': 'staging', 'tables': [{'table_name': 'test_table_1', 'rules': [{'validator': 'expect_column_values_to_not_be_null', 'config': {'column': 'col1'}}, {'validator': 'expect_column_values_to_be_between', 'config': {'column': 'col1', 'min_value': 0, 'max_value': 100}}]}, {'table_name': 'test_table_2', 'rules': [{'validator': 'expect_column_values_to_not_be_null', 'config': {'column': 'col1'}}, {'validator': 'expect_column_values_to_be_between', 'config': {'column': 'col1', 'min_value': 0, 'max_value': 100}}]}]}\n",
      "{'name': None, 'schema': None, 'tables': [{'table_name': None, 'rules': [{'validator': None, 'config': {'column': 'col2'}}, {'validator': None, 'config': {'column': 'col3', 'min_value': 0, 'max_value': 100}}]}]}\n"
     ]
    }
   ],
   "source": [
    "for data_source in config.parse_yaml_file().get(\"data_sources\"):\n",
    "    print(data_source)"
   ]
  }
 ],
 "metadata": {
  "kernelspec": {
   "display_name": "Python 3 (ipykernel)",
   "language": "python",
   "name": "python3"
  }
 },
 "nbformat": 4,
 "nbformat_minor": 4
}
